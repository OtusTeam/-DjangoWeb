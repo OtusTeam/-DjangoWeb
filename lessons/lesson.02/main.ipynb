{
 "cells": [
  {
   "cell_type": "code",
   "execution_count": 1,
   "id": "bd46caf8-4e15-4e7e-ba8a-7773957874fc",
   "metadata": {},
   "outputs": [
    {
     "name": "stdout",
     "output_type": "stream",
     "text": [
      "Hello Python!\n"
     ]
    }
   ],
   "source": [
    "print(\"Hello Python!\")"
   ]
  },
  {
   "cell_type": "code",
   "execution_count": 2,
   "id": "2ee6bf9f-0904-4a78-9f0c-fba9397d8ce8",
   "metadata": {},
   "outputs": [],
   "source": [
    "def add(x, y):\n",
    "    return x + y"
   ]
  },
  {
   "cell_type": "code",
   "execution_count": 3,
   "id": "ccb658b0-5174-4e80-9854-549575dd69e2",
   "metadata": {},
   "outputs": [
    {
     "data": {
      "text/plain": [
       "5"
      ]
     },
     "execution_count": 3,
     "metadata": {},
     "output_type": "execute_result"
    }
   ],
   "source": [
    "add(2, 3)"
   ]
  },
  {
   "cell_type": "code",
   "execution_count": 4,
   "id": "1fd50200-75ae-40c3-a8b7-c26de1934116",
   "metadata": {},
   "outputs": [
    {
     "name": "stdout",
     "output_type": "stream",
     "text": [
      "улица Пушкина\n"
     ]
    }
   ],
   "source": [
    "address = \"улица Пушкина\"\n",
    "print(address)"
   ]
  },
  {
   "cell_type": "code",
   "execution_count": 5,
   "id": "574eb93c-748e-48fc-9188-b108a6faea3a",
   "metadata": {},
   "outputs": [
    {
     "data": {
      "text/plain": [
       "''"
      ]
     },
     "execution_count": 5,
     "metadata": {},
     "output_type": "execute_result"
    }
   ],
   "source": [
    "str()"
   ]
  },
  {
   "cell_type": "code",
   "execution_count": 6,
   "id": "39b2c903-a4ab-45a3-a51a-54487fc23b67",
   "metadata": {},
   "outputs": [
    {
     "data": {
      "text/plain": [
       "0"
      ]
     },
     "execution_count": 6,
     "metadata": {},
     "output_type": "execute_result"
    }
   ],
   "source": [
    "int()"
   ]
  },
  {
   "cell_type": "code",
   "execution_count": 7,
   "id": "fc364a7a-9dfd-4e55-bd52-7306b6d543f8",
   "metadata": {},
   "outputs": [
    {
     "data": {
      "text/plain": [
       "''"
      ]
     },
     "execution_count": 7,
     "metadata": {},
     "output_type": "execute_result"
    }
   ],
   "source": [
    "''"
   ]
  },
  {
   "cell_type": "code",
   "execution_count": 8,
   "id": "e3b4caf5-64e1-4a96-bfce-091a44ce9cd0",
   "metadata": {},
   "outputs": [
    {
     "data": {
      "text/plain": [
       "True"
      ]
     },
     "execution_count": 8,
     "metadata": {},
     "output_type": "execute_result"
    }
   ],
   "source": [
    "'' == str()"
   ]
  },
  {
   "cell_type": "code",
   "execution_count": 9,
   "id": "524d97fe-22fa-48b0-8d4e-6bbcdd146734",
   "metadata": {},
   "outputs": [
    {
     "data": {
      "text/plain": [
       "True"
      ]
     },
     "execution_count": 9,
     "metadata": {},
     "output_type": "execute_result"
    }
   ],
   "source": [
    "{} == dict()"
   ]
  },
  {
   "cell_type": "code",
   "execution_count": 10,
   "id": "c3dfb6a6-66b7-4a36-8707-a85fd38389d0",
   "metadata": {},
   "outputs": [
    {
     "data": {
      "text/plain": [
       "set()"
      ]
     },
     "execution_count": 10,
     "metadata": {},
     "output_type": "execute_result"
    }
   ],
   "source": [
    "set()"
   ]
  },
  {
   "cell_type": "code",
   "execution_count": 11,
   "id": "009b69ae-b75d-4310-9235-392c6b35cd8c",
   "metadata": {},
   "outputs": [
    {
     "data": {
      "text/plain": [
       "{1}"
      ]
     },
     "execution_count": 11,
     "metadata": {},
     "output_type": "execute_result"
    }
   ],
   "source": [
    "{1}"
   ]
  },
  {
   "cell_type": "code",
   "execution_count": 12,
   "id": "cbe896cd-b480-4d41-8ff9-bf88826d80f5",
   "metadata": {},
   "outputs": [
    {
     "data": {
      "text/plain": [
       "{1: 1}"
      ]
     },
     "execution_count": 12,
     "metadata": {},
     "output_type": "execute_result"
    }
   ],
   "source": [
    "{1:1}"
   ]
  },
  {
   "cell_type": "code",
   "execution_count": 13,
   "id": "84bad01a-bb6e-4c9b-90eb-c21a3b0f51fc",
   "metadata": {},
   "outputs": [
    {
     "data": {
      "text/plain": [
       "False"
      ]
     },
     "execution_count": 13,
     "metadata": {},
     "output_type": "execute_result"
    }
   ],
   "source": [
    "bool()"
   ]
  },
  {
   "cell_type": "code",
   "execution_count": 14,
   "id": "10194446-1acf-405b-8e14-31edbac02339",
   "metadata": {},
   "outputs": [
    {
     "data": {
      "text/plain": [
       "3"
      ]
     },
     "execution_count": 14,
     "metadata": {},
     "output_type": "execute_result"
    }
   ],
   "source": [
    "1 + 2"
   ]
  },
  {
   "cell_type": "code",
   "execution_count": 15,
   "id": "143e74fa-9871-45bf-9cbc-05a1782a9bc5",
   "metadata": {},
   "outputs": [
    {
     "data": {
      "text/plain": [
       "'abcqwe'"
      ]
     },
     "execution_count": 15,
     "metadata": {},
     "output_type": "execute_result"
    }
   ],
   "source": [
    "\"abc\" + \"qwe\""
   ]
  },
  {
   "cell_type": "code",
   "execution_count": 16,
   "id": "f4f45693-6f27-436f-a6e6-038ace3bb3ee",
   "metadata": {},
   "outputs": [
    {
     "data": {
      "text/plain": [
       "'улица Пушкина'"
      ]
     },
     "execution_count": 16,
     "metadata": {},
     "output_type": "execute_result"
    }
   ],
   "source": [
    "address"
   ]
  },
  {
   "cell_type": "code",
   "execution_count": 17,
   "id": "20e9120a-4954-43bd-bc40-92c1b07506e3",
   "metadata": {},
   "outputs": [
    {
     "data": {
      "text/plain": [
       "'УЛИЦА ПУШКИНА'"
      ]
     },
     "execution_count": 17,
     "metadata": {},
     "output_type": "execute_result"
    }
   ],
   "source": [
    "address.upper()"
   ]
  },
  {
   "cell_type": "code",
   "execution_count": 18,
   "id": "bf2a90fd-65b5-46f1-8a27-665e6aed6b6b",
   "metadata": {},
   "outputs": [
    {
     "data": {
      "text/plain": [
       "'Улица Пушкина'"
      ]
     },
     "execution_count": 18,
     "metadata": {},
     "output_type": "execute_result"
    }
   ],
   "source": [
    "address.upper().title()"
   ]
  },
  {
   "cell_type": "code",
   "execution_count": 19,
   "id": "79f8021d-af1a-4810-98a6-4eb10972037e",
   "metadata": {},
   "outputs": [
    {
     "data": {
      "text/plain": [
       "'Улица Пушкина'"
      ]
     },
     "execution_count": 19,
     "metadata": {},
     "output_type": "execute_result"
    }
   ],
   "source": [
    "address.title()"
   ]
  },
  {
   "cell_type": "code",
   "execution_count": 20,
   "id": "fb12e0d6-e9e8-4ff1-82c0-dcfba7b888ba",
   "metadata": {},
   "outputs": [],
   "source": [
    "user = (\"bob\", \"Bob White\", 42)"
   ]
  },
  {
   "cell_type": "code",
   "execution_count": 21,
   "id": "06760a9a-6930-4bdb-a06d-70d40df8e763",
   "metadata": {},
   "outputs": [
    {
     "data": {
      "text/plain": [
       "('bob', 'Bob White', 42)"
      ]
     },
     "execution_count": 21,
     "metadata": {},
     "output_type": "execute_result"
    }
   ],
   "source": [
    "user"
   ]
  },
  {
   "cell_type": "code",
   "execution_count": 22,
   "id": "dc37adfd-dc5d-4d40-842c-543f2a93d87f",
   "metadata": {},
   "outputs": [],
   "source": [
    "user_john = (\"john\", None, 21)"
   ]
  },
  {
   "cell_type": "code",
   "execution_count": 23,
   "id": "5a45c8e3-0d87-4cc5-8412-69af499bd62f",
   "metadata": {},
   "outputs": [
    {
     "data": {
      "text/plain": [
       "('john', None, 21)"
      ]
     },
     "execution_count": 23,
     "metadata": {},
     "output_type": "execute_result"
    }
   ],
   "source": [
    "user_john"
   ]
  },
  {
   "cell_type": "code",
   "execution_count": 24,
   "id": "2ffab7df-5950-469b-9e34-3ed57adca547",
   "metadata": {},
   "outputs": [],
   "source": [
    "user_john = (\"john\", \"John\", 21)"
   ]
  },
  {
   "cell_type": "code",
   "execution_count": 25,
   "id": "2aa2e530-8911-44e6-90fb-c4c2b7866cc2",
   "metadata": {},
   "outputs": [
    {
     "data": {
      "text/plain": [
       "('john', 'John', 21)"
      ]
     },
     "execution_count": 25,
     "metadata": {},
     "output_type": "execute_result"
    }
   ],
   "source": [
    "user_john"
   ]
  },
  {
   "cell_type": "code",
   "execution_count": 26,
   "id": "97d22a0e-6a51-4027-8af7-0d5a7ae90484",
   "metadata": {},
   "outputs": [],
   "source": [
    "user_sam = [\"sam\", None, 33]"
   ]
  },
  {
   "cell_type": "code",
   "execution_count": 27,
   "id": "0da696f5-f6bf-4461-a0b1-a493f8ee9aeb",
   "metadata": {},
   "outputs": [
    {
     "data": {
      "text/plain": [
       "['sam', None, 33]"
      ]
     },
     "execution_count": 27,
     "metadata": {},
     "output_type": "execute_result"
    }
   ],
   "source": [
    "user_sam"
   ]
  },
  {
   "cell_type": "code",
   "execution_count": 28,
   "id": "ec1e97f9-ad1f-441d-a49f-9eea1be46b7d",
   "metadata": {},
   "outputs": [],
   "source": [
    "user_sam[1] = \"Sam Grey\""
   ]
  },
  {
   "cell_type": "code",
   "execution_count": 29,
   "id": "5324dad1-cec7-4cda-b3b2-fc345ec9b38d",
   "metadata": {},
   "outputs": [
    {
     "data": {
      "text/plain": [
       "['sam', 'Sam Grey', 33]"
      ]
     },
     "execution_count": 29,
     "metadata": {},
     "output_type": "execute_result"
    }
   ],
   "source": [
    "user_sam"
   ]
  },
  {
   "cell_type": "code",
   "execution_count": 30,
   "id": "90b887c8-9abf-493e-b763-b0d4bb5cebd9",
   "metadata": {},
   "outputs": [],
   "source": [
    "user_nick = {\n",
    "    \"username\": \"nick\",\n",
    "    \"full_name\": None,\n",
    "    \"age\": 44,\n",
    "}"
   ]
  },
  {
   "cell_type": "code",
   "execution_count": 31,
   "id": "725cd2a4-cb39-476a-ae5c-a6d5c84558ca",
   "metadata": {},
   "outputs": [
    {
     "data": {
      "text/plain": [
       "{'username': 'nick', 'full_name': None, 'age': 44}"
      ]
     },
     "execution_count": 31,
     "metadata": {},
     "output_type": "execute_result"
    }
   ],
   "source": [
    "user_nick"
   ]
  },
  {
   "cell_type": "code",
   "execution_count": 32,
   "id": "121e9366-d17a-4d04-893c-b6d98c205a21",
   "metadata": {},
   "outputs": [],
   "source": [
    "user_nick[\"full_name\"] = \"Nick W.\""
   ]
  },
  {
   "cell_type": "code",
   "execution_count": 33,
   "id": "0c934958-dbbc-45fc-a853-479f0682222b",
   "metadata": {},
   "outputs": [
    {
     "data": {
      "text/plain": [
       "{'username': 'nick', 'full_name': 'Nick W.', 'age': 44}"
      ]
     },
     "execution_count": 33,
     "metadata": {},
     "output_type": "execute_result"
    }
   ],
   "source": [
    "user_nick"
   ]
  },
  {
   "cell_type": "code",
   "execution_count": 34,
   "id": "44596bb3-da93-4d1d-a0f1-89ca120e133f",
   "metadata": {},
   "outputs": [
    {
     "data": {
      "text/plain": [
       "dict"
      ]
     },
     "execution_count": 34,
     "metadata": {},
     "output_type": "execute_result"
    }
   ],
   "source": [
    "type(user_nick)"
   ]
  },
  {
   "cell_type": "code",
   "execution_count": 35,
   "id": "80405df6-14ab-4da9-a81a-c91422f2c0c3",
   "metadata": {},
   "outputs": [
    {
     "name": "stdout",
     "output_type": "stream",
     "text": [
      "<class 'dict'>\n"
     ]
    }
   ],
   "source": [
    "print(type(user_nick))"
   ]
  },
  {
   "cell_type": "code",
   "execution_count": 36,
   "id": "9a8897d7-b777-4447-9ca6-8c9e2bbb41c6",
   "metadata": {},
   "outputs": [
    {
     "name": "stdout",
     "output_type": "stream",
     "text": [
      "<class 'int'>\n"
     ]
    }
   ],
   "source": [
    "print(type(123))"
   ]
  },
  {
   "cell_type": "code",
   "execution_count": 37,
   "id": "2eb4f9be-2dcb-4c48-a555-8571e24c2534",
   "metadata": {},
   "outputs": [
    {
     "name": "stdout",
     "output_type": "stream",
     "text": [
      "<class 'str'>\n"
     ]
    }
   ],
   "source": [
    "print(type(\"hello\"))"
   ]
  },
  {
   "cell_type": "code",
   "execution_count": 38,
   "id": "0be2eafd-6282-4c21-ba0c-f19835e403e1",
   "metadata": {},
   "outputs": [],
   "source": [
    "class User:\n",
    "    pass"
   ]
  },
  {
   "cell_type": "code",
   "execution_count": 39,
   "id": "9806a1a3-b572-458f-9294-313fd12f3283",
   "metadata": {},
   "outputs": [],
   "source": [
    "sam = User()"
   ]
  },
  {
   "cell_type": "code",
   "execution_count": 40,
   "id": "2b1bca85-0f16-4d57-bb30-08065d7e035b",
   "metadata": {},
   "outputs": [
    {
     "name": "stdout",
     "output_type": "stream",
     "text": [
      "<__main__.User object at 0x107fa4710>\n"
     ]
    }
   ],
   "source": [
    "print(sam)"
   ]
  },
  {
   "cell_type": "code",
   "execution_count": 41,
   "id": "3ccbe9dd-fe55-4e80-a837-53aba99567d1",
   "metadata": {},
   "outputs": [
    {
     "data": {
      "text/plain": [
       "__main__.User"
      ]
     },
     "execution_count": 41,
     "metadata": {},
     "output_type": "execute_result"
    }
   ],
   "source": [
    "type(sam)"
   ]
  },
  {
   "cell_type": "code",
   "execution_count": 42,
   "id": "a6dad781-d7c7-41f7-a556-a6c4363cd67b",
   "metadata": {},
   "outputs": [
    {
     "name": "stdout",
     "output_type": "stream",
     "text": [
      "<class '__main__.User'>\n"
     ]
    }
   ],
   "source": [
    "print(type(sam))"
   ]
  },
  {
   "cell_type": "code",
   "execution_count": 43,
   "id": "94b95e1d-f38a-4ad6-8aa6-8a84aa06a4c4",
   "metadata": {},
   "outputs": [],
   "source": [
    "sam.username = \"sam\""
   ]
  },
  {
   "cell_type": "code",
   "execution_count": 44,
   "id": "5a88d010-130d-4b80-8397-9084dcfc2d8f",
   "metadata": {},
   "outputs": [
    {
     "data": {
      "text/plain": [
       "'sam'"
      ]
     },
     "execution_count": 44,
     "metadata": {},
     "output_type": "execute_result"
    }
   ],
   "source": [
    "sam.username"
   ]
  },
  {
   "cell_type": "code",
   "execution_count": 45,
   "id": "475ba8ba-90fd-4333-bfbb-7b29fe48d23b",
   "metadata": {},
   "outputs": [],
   "source": [
    "sam.age = 33"
   ]
  },
  {
   "cell_type": "code",
   "execution_count": 46,
   "id": "abcce823-85cd-4575-a62e-88679bd03614",
   "metadata": {},
   "outputs": [
    {
     "data": {
      "text/plain": [
       "33"
      ]
     },
     "execution_count": 46,
     "metadata": {},
     "output_type": "execute_result"
    }
   ],
   "source": [
    "sam.age"
   ]
  },
  {
   "cell_type": "code",
   "execution_count": 47,
   "id": "4e1bfe7d-7773-43a5-8049-3337bcea7ea3",
   "metadata": {},
   "outputs": [],
   "source": [
    "def increase_age(user):\n",
    "    user.age += 1"
   ]
  },
  {
   "cell_type": "code",
   "execution_count": 48,
   "id": "e03668ee-c39c-496e-b377-9dede1454251",
   "metadata": {},
   "outputs": [],
   "source": [
    "increase_age(sam)"
   ]
  },
  {
   "cell_type": "code",
   "execution_count": 49,
   "id": "757b6332-bd50-49f2-b8af-1d651b341aea",
   "metadata": {},
   "outputs": [
    {
     "data": {
      "text/plain": [
       "34"
      ]
     },
     "execution_count": 49,
     "metadata": {},
     "output_type": "execute_result"
    }
   ],
   "source": [
    "sam.age"
   ]
  },
  {
   "cell_type": "code",
   "execution_count": 50,
   "id": "7dfc0050-e52b-4106-a777-c2f52055431c",
   "metadata": {},
   "outputs": [],
   "source": [
    "increase_age(sam)"
   ]
  },
  {
   "cell_type": "code",
   "execution_count": 51,
   "id": "2f9452fe-02f7-48ed-ba3b-27ba188cc6dc",
   "metadata": {},
   "outputs": [
    {
     "data": {
      "text/plain": [
       "35"
      ]
     },
     "execution_count": 51,
     "metadata": {},
     "output_type": "execute_result"
    }
   ],
   "source": [
    "sam.age"
   ]
  },
  {
   "cell_type": "code",
   "execution_count": 52,
   "id": "2c7779b0-663a-4401-9523-ceebb2240f2e",
   "metadata": {},
   "outputs": [],
   "source": [
    "User.increase_age = increase_age"
   ]
  },
  {
   "cell_type": "code",
   "execution_count": 53,
   "id": "7919bc08-459c-470b-afdc-cc6306360628",
   "metadata": {},
   "outputs": [],
   "source": [
    "sam.increase_age()"
   ]
  },
  {
   "cell_type": "code",
   "execution_count": 54,
   "id": "a5c60787-5d9f-43c6-bc44-47f532c55c8e",
   "metadata": {},
   "outputs": [
    {
     "data": {
      "text/plain": [
       "36"
      ]
     },
     "execution_count": 54,
     "metadata": {},
     "output_type": "execute_result"
    }
   ],
   "source": [
    "sam.age"
   ]
  },
  {
   "cell_type": "code",
   "execution_count": 55,
   "id": "b8f7b11b-4202-42f8-9703-0465fc47866c",
   "metadata": {},
   "outputs": [],
   "source": [
    "class User:\n",
    "    age = 0\n",
    "\n",
    "    def increase_age(self):\n",
    "        self.age += 1"
   ]
  },
  {
   "cell_type": "code",
   "execution_count": 56,
   "id": "903f55bb-6212-4bf1-a842-f22935b0c186",
   "metadata": {},
   "outputs": [],
   "source": [
    "sam = User()"
   ]
  },
  {
   "cell_type": "code",
   "execution_count": 57,
   "id": "58aee24e-bc7b-45aa-b3b0-3cf1573c84f4",
   "metadata": {},
   "outputs": [
    {
     "data": {
      "text/plain": [
       "0"
      ]
     },
     "execution_count": 57,
     "metadata": {},
     "output_type": "execute_result"
    }
   ],
   "source": [
    "sam.age"
   ]
  },
  {
   "cell_type": "code",
   "execution_count": 58,
   "id": "dbf4cc29-a079-4124-b6b0-e2caec1fb3a8",
   "metadata": {},
   "outputs": [],
   "source": [
    "sam.increase_age()"
   ]
  },
  {
   "cell_type": "code",
   "execution_count": 59,
   "id": "837a521e-7f0c-4ca7-8560-025a295824e0",
   "metadata": {},
   "outputs": [
    {
     "data": {
      "text/plain": [
       "1"
      ]
     },
     "execution_count": 59,
     "metadata": {},
     "output_type": "execute_result"
    }
   ],
   "source": [
    "sam.age"
   ]
  },
  {
   "cell_type": "code",
   "execution_count": 60,
   "id": "20701899-22db-4b6e-80a4-ebdc242d0e63",
   "metadata": {},
   "outputs": [],
   "source": [
    "john = User()"
   ]
  },
  {
   "cell_type": "code",
   "execution_count": 61,
   "id": "18828a96-5e97-4404-809c-d1671cbd9045",
   "metadata": {},
   "outputs": [
    {
     "data": {
      "text/plain": [
       "0"
      ]
     },
     "execution_count": 61,
     "metadata": {},
     "output_type": "execute_result"
    }
   ],
   "source": [
    "john.age"
   ]
  },
  {
   "cell_type": "code",
   "execution_count": 62,
   "id": "4778458b-ce71-4157-a842-372d01a80462",
   "metadata": {},
   "outputs": [],
   "source": [
    "john.increase_age()\n",
    "john.increase_age()\n",
    "john.increase_age()"
   ]
  },
  {
   "cell_type": "code",
   "execution_count": 63,
   "id": "e2afce66-dea1-4c8c-837d-84b218ddabdc",
   "metadata": {},
   "outputs": [
    {
     "data": {
      "text/plain": [
       "3"
      ]
     },
     "execution_count": 63,
     "metadata": {},
     "output_type": "execute_result"
    }
   ],
   "source": [
    "john.age"
   ]
  },
  {
   "cell_type": "code",
   "execution_count": 64,
   "id": "73fe12aa-e1eb-48ad-a4e8-43571178ee24",
   "metadata": {},
   "outputs": [],
   "source": [
    "sam.username = \"sam\""
   ]
  },
  {
   "cell_type": "code",
   "execution_count": 65,
   "id": "a630aa18-4f14-4e17-af3b-e6b7495241af",
   "metadata": {},
   "outputs": [
    {
     "data": {
      "text/plain": [
       "'sam'"
      ]
     },
     "execution_count": 65,
     "metadata": {},
     "output_type": "execute_result"
    }
   ],
   "source": [
    "sam.username"
   ]
  },
  {
   "cell_type": "code",
   "execution_count": 66,
   "id": "2a0f517a-ee23-4c6f-a0d8-343a77e12f54",
   "metadata": {},
   "outputs": [
    {
     "ename": "AttributeError",
     "evalue": "'User' object has no attribute 'username'",
     "output_type": "error",
     "traceback": [
      "\u001b[0;31m---------------------------------------------------------------------------\u001b[0m",
      "\u001b[0;31mAttributeError\u001b[0m                            Traceback (most recent call last)",
      "Cell \u001b[0;32mIn[66], line 1\u001b[0m\n\u001b[0;32m----> 1\u001b[0m \u001b[43mjohn\u001b[49m\u001b[38;5;241;43m.\u001b[39;49m\u001b[43musername\u001b[49m\n",
      "\u001b[0;31mAttributeError\u001b[0m: 'User' object has no attribute 'username'"
     ]
    }
   ],
   "source": [
    "john.username"
   ]
  },
  {
   "cell_type": "code",
   "execution_count": 67,
   "id": "6df4afcd-9870-4634-a4cb-13786aa63f90",
   "metadata": {},
   "outputs": [],
   "source": [
    "nick = User()"
   ]
  },
  {
   "cell_type": "code",
   "execution_count": 68,
   "id": "2c062066-081f-4793-b76e-84d0aa29b060",
   "metadata": {},
   "outputs": [
    {
     "data": {
      "text/plain": [
       "{}"
      ]
     },
     "execution_count": 68,
     "metadata": {},
     "output_type": "execute_result"
    }
   ],
   "source": [
    "nick.__dict__"
   ]
  },
  {
   "cell_type": "code",
   "execution_count": 69,
   "id": "4809eca1-cdc9-4a87-9a9b-85e90dc77282",
   "metadata": {},
   "outputs": [
    {
     "data": {
      "text/plain": [
       "0"
      ]
     },
     "execution_count": 69,
     "metadata": {},
     "output_type": "execute_result"
    }
   ],
   "source": [
    "nick.age"
   ]
  },
  {
   "cell_type": "code",
   "execution_count": 70,
   "id": "ab8f4335-ff14-4978-8c67-a02e89e626e3",
   "metadata": {},
   "outputs": [
    {
     "data": {
      "text/plain": [
       "<bound method User.increase_age of <__main__.User object at 0x107fc3650>>"
      ]
     },
     "execution_count": 70,
     "metadata": {},
     "output_type": "execute_result"
    }
   ],
   "source": [
    "nick.increase_age"
   ]
  },
  {
   "cell_type": "code",
   "execution_count": 71,
   "id": "ac8324b9-83ab-4bab-8bc4-8d7a1c3ef9d3",
   "metadata": {},
   "outputs": [
    {
     "data": {
      "text/plain": [
       "mappingproxy({'__module__': '__main__',\n",
       "              'age': 0,\n",
       "              'increase_age': <function __main__.User.increase_age(self)>,\n",
       "              '__dict__': <attribute '__dict__' of 'User' objects>,\n",
       "              '__weakref__': <attribute '__weakref__' of 'User' objects>,\n",
       "              '__doc__': None})"
      ]
     },
     "execution_count": 71,
     "metadata": {},
     "output_type": "execute_result"
    }
   ],
   "source": [
    "User.__dict__"
   ]
  },
  {
   "cell_type": "code",
   "execution_count": 72,
   "id": "b5663d05-00a7-46ba-944e-dd74377d5f69",
   "metadata": {},
   "outputs": [
    {
     "data": {
      "text/plain": [
       "{'age': 1, 'username': 'sam'}"
      ]
     },
     "execution_count": 72,
     "metadata": {},
     "output_type": "execute_result"
    }
   ],
   "source": [
    "sam.__dict__"
   ]
  },
  {
   "cell_type": "code",
   "execution_count": 73,
   "id": "65e0e2e4-e7f3-47cd-bcd8-56413acb0a25",
   "metadata": {},
   "outputs": [
    {
     "data": {
      "text/plain": [
       "{'age': 3}"
      ]
     },
     "execution_count": 73,
     "metadata": {},
     "output_type": "execute_result"
    }
   ],
   "source": [
    "john.__dict__"
   ]
  },
  {
   "cell_type": "code",
   "execution_count": 74,
   "id": "640512ad-375a-4ec2-80af-81dfe2a95c52",
   "metadata": {},
   "outputs": [],
   "source": [
    "def init_user(user):\n",
    "    user.age = 0\n",
    "    user.username = None"
   ]
  },
  {
   "cell_type": "code",
   "execution_count": 75,
   "id": "a1163127-9818-4994-ae5b-fc838096d412",
   "metadata": {},
   "outputs": [
    {
     "data": {
      "text/plain": [
       "{}"
      ]
     },
     "execution_count": 75,
     "metadata": {},
     "output_type": "execute_result"
    }
   ],
   "source": [
    "nick.__dict__"
   ]
  },
  {
   "cell_type": "code",
   "execution_count": 76,
   "id": "b5279e30-5b65-4669-97b9-3652b757d389",
   "metadata": {},
   "outputs": [],
   "source": [
    "init_user(nick)"
   ]
  },
  {
   "cell_type": "code",
   "execution_count": 77,
   "id": "55466be8-54fd-4b9a-904f-7314eb885512",
   "metadata": {},
   "outputs": [
    {
     "data": {
      "text/plain": [
       "{'age': 0, 'username': None}"
      ]
     },
     "execution_count": 77,
     "metadata": {},
     "output_type": "execute_result"
    }
   ],
   "source": [
    "nick.__dict__"
   ]
  },
  {
   "cell_type": "code",
   "execution_count": 78,
   "id": "4db97410-76d7-466b-8e85-f244b15d9bcf",
   "metadata": {},
   "outputs": [],
   "source": [
    "def init_user(user, age=0):\n",
    "    user.age = age\n",
    "    user.username = None"
   ]
  },
  {
   "cell_type": "code",
   "execution_count": 79,
   "id": "fab05add-cd91-4c46-8620-c8177883eba5",
   "metadata": {},
   "outputs": [],
   "source": [
    "init_user(nick, 22)"
   ]
  },
  {
   "cell_type": "code",
   "execution_count": 80,
   "id": "b57174b5-470e-47c1-bba6-1248f1a1158d",
   "metadata": {},
   "outputs": [
    {
     "data": {
      "text/plain": [
       "{'age': 22, 'username': None}"
      ]
     },
     "execution_count": 80,
     "metadata": {},
     "output_type": "execute_result"
    }
   ],
   "source": [
    "nick.__dict__"
   ]
  },
  {
   "cell_type": "code",
   "execution_count": 81,
   "id": "a302c54a-9ddb-4203-9690-2ec0046b25a4",
   "metadata": {},
   "outputs": [
    {
     "data": {
      "text/plain": [
       "22"
      ]
     },
     "execution_count": 81,
     "metadata": {},
     "output_type": "execute_result"
    }
   ],
   "source": [
    "nick.age"
   ]
  },
  {
   "cell_type": "code",
   "execution_count": 86,
   "id": "1ed9e7c6-c323-445d-85e8-3e644529fdb6",
   "metadata": {},
   "outputs": [],
   "source": [
    "class User:\n",
    "    def __init__(self, username, age=0):\n",
    "        self.username = username\n",
    "        self.age = age\n",
    "\n",
    "    def inc_age(self):\n",
    "        self.age += 1"
   ]
  },
  {
   "cell_type": "code",
   "execution_count": 87,
   "id": "237c27ec-fb6e-4b8d-a320-e0239a9ad652",
   "metadata": {},
   "outputs": [
    {
     "ename": "TypeError",
     "evalue": "User.__init__() missing 1 required positional argument: 'username'",
     "output_type": "error",
     "traceback": [
      "\u001b[0;31m---------------------------------------------------------------------------\u001b[0m",
      "\u001b[0;31mTypeError\u001b[0m                                 Traceback (most recent call last)",
      "Cell \u001b[0;32mIn[87], line 1\u001b[0m\n\u001b[0;32m----> 1\u001b[0m sam \u001b[38;5;241m=\u001b[39m \u001b[43mUser\u001b[49m\u001b[43m(\u001b[49m\u001b[43m)\u001b[49m\n",
      "\u001b[0;31mTypeError\u001b[0m: User.__init__() missing 1 required positional argument: 'username'"
     ]
    }
   ],
   "source": [
    "sam = User()"
   ]
  },
  {
   "cell_type": "code",
   "execution_count": 88,
   "id": "27c4b49e-fb22-45e8-bd2e-ab6759a2478f",
   "metadata": {},
   "outputs": [
    {
     "ename": "TypeError",
     "evalue": "init_user() missing 1 required positional argument: 'user'",
     "output_type": "error",
     "traceback": [
      "\u001b[0;31m---------------------------------------------------------------------------\u001b[0m",
      "\u001b[0;31mTypeError\u001b[0m                                 Traceback (most recent call last)",
      "Cell \u001b[0;32mIn[88], line 1\u001b[0m\n\u001b[0;32m----> 1\u001b[0m \u001b[43minit_user\u001b[49m\u001b[43m(\u001b[49m\u001b[43m)\u001b[49m\n",
      "\u001b[0;31mTypeError\u001b[0m: init_user() missing 1 required positional argument: 'user'"
     ]
    }
   ],
   "source": [
    "init_user()"
   ]
  },
  {
   "cell_type": "code",
   "execution_count": 89,
   "id": "f9e82028-9b0f-42a9-904e-35b055865bc0",
   "metadata": {},
   "outputs": [],
   "source": [
    "sam = User(\"sam\")"
   ]
  },
  {
   "cell_type": "code",
   "execution_count": 90,
   "id": "5c5da02d-34c0-42e4-a8fd-b23a95bd45bb",
   "metadata": {},
   "outputs": [
    {
     "data": {
      "text/plain": [
       "{'username': 'sam', 'age': 0}"
      ]
     },
     "execution_count": 90,
     "metadata": {},
     "output_type": "execute_result"
    }
   ],
   "source": [
    "sam.__dict__"
   ]
  },
  {
   "cell_type": "code",
   "execution_count": 91,
   "id": "1e75b49f-6b78-4fa8-baf4-cade5df61fb4",
   "metadata": {},
   "outputs": [
    {
     "data": {
      "text/plain": [
       "'sam'"
      ]
     },
     "execution_count": 91,
     "metadata": {},
     "output_type": "execute_result"
    }
   ],
   "source": [
    "sam.username"
   ]
  },
  {
   "cell_type": "code",
   "execution_count": 92,
   "id": "e4e621d3-aa7d-40c5-8240-5b43daa89d5a",
   "metadata": {},
   "outputs": [],
   "source": [
    "john = User(\"john\")"
   ]
  },
  {
   "cell_type": "code",
   "execution_count": 93,
   "id": "1b7927b9-93ea-488c-b43b-ec49a8602de1",
   "metadata": {},
   "outputs": [
    {
     "data": {
      "text/plain": [
       "'john'"
      ]
     },
     "execution_count": 93,
     "metadata": {},
     "output_type": "execute_result"
    }
   ],
   "source": [
    "john.username"
   ]
  },
  {
   "cell_type": "code",
   "execution_count": 94,
   "id": "2fe0a948-90ef-48d7-9a42-a5fbaaf02979",
   "metadata": {},
   "outputs": [
    {
     "data": {
      "text/plain": [
       "<function __main__.User.inc_age(self)>"
      ]
     },
     "execution_count": 94,
     "metadata": {},
     "output_type": "execute_result"
    }
   ],
   "source": [
    "User.inc_age"
   ]
  },
  {
   "cell_type": "code",
   "execution_count": 95,
   "id": "21c23d3b-d990-4d67-b8ca-f367f5373e36",
   "metadata": {},
   "outputs": [
    {
     "data": {
      "text/plain": [
       "<bound method User.inc_age of <__main__.User object at 0x107fa6ab0>>"
      ]
     },
     "execution_count": 95,
     "metadata": {},
     "output_type": "execute_result"
    }
   ],
   "source": [
    "john.inc_age"
   ]
  },
  {
   "cell_type": "code",
   "execution_count": 96,
   "id": "303d186a-93d3-42c1-a2d0-bc6e03211605",
   "metadata": {},
   "outputs": [
    {
     "data": {
      "text/plain": [
       "<__main__.User at 0x107fa6ab0>"
      ]
     },
     "execution_count": 96,
     "metadata": {},
     "output_type": "execute_result"
    }
   ],
   "source": [
    "john"
   ]
  },
  {
   "cell_type": "code",
   "execution_count": 97,
   "id": "6ebe186a-f904-4bd9-9254-d85a198977e8",
   "metadata": {},
   "outputs": [
    {
     "data": {
      "text/plain": [
       "0"
      ]
     },
     "execution_count": 97,
     "metadata": {},
     "output_type": "execute_result"
    }
   ],
   "source": [
    "john.age"
   ]
  },
  {
   "cell_type": "code",
   "execution_count": 98,
   "id": "c89e5037-b270-4a22-a1f2-4c966c9229a4",
   "metadata": {},
   "outputs": [],
   "source": [
    "john.inc_age()"
   ]
  },
  {
   "cell_type": "code",
   "execution_count": 99,
   "id": "b36e6224-cb0d-479a-b444-b02164fee7a1",
   "metadata": {},
   "outputs": [
    {
     "data": {
      "text/plain": [
       "1"
      ]
     },
     "execution_count": 99,
     "metadata": {},
     "output_type": "execute_result"
    }
   ],
   "source": [
    "john.age"
   ]
  },
  {
   "cell_type": "code",
   "execution_count": 100,
   "id": "04ac2d56-9f39-4144-9d95-11008de397a3",
   "metadata": {},
   "outputs": [],
   "source": [
    "User.inc_age(john)"
   ]
  },
  {
   "cell_type": "code",
   "execution_count": 101,
   "id": "5996e30e-39fc-4ec5-8ab7-dd41f47924fa",
   "metadata": {},
   "outputs": [
    {
     "data": {
      "text/plain": [
       "2"
      ]
     },
     "execution_count": 101,
     "metadata": {},
     "output_type": "execute_result"
    }
   ],
   "source": [
    "john.age"
   ]
  },
  {
   "cell_type": "code",
   "execution_count": 102,
   "id": "b9777754-ba0c-43cd-a631-fc4efc8fe985",
   "metadata": {},
   "outputs": [
    {
     "ename": "TypeError",
     "evalue": "User.inc_age() missing 1 required positional argument: 'self'",
     "output_type": "error",
     "traceback": [
      "\u001b[0;31m---------------------------------------------------------------------------\u001b[0m",
      "\u001b[0;31mTypeError\u001b[0m                                 Traceback (most recent call last)",
      "Cell \u001b[0;32mIn[102], line 1\u001b[0m\n\u001b[0;32m----> 1\u001b[0m \u001b[43mUser\u001b[49m\u001b[38;5;241;43m.\u001b[39;49m\u001b[43minc_age\u001b[49m\u001b[43m(\u001b[49m\u001b[43m)\u001b[49m\n",
      "\u001b[0;31mTypeError\u001b[0m: User.inc_age() missing 1 required positional argument: 'self'"
     ]
    }
   ],
   "source": [
    "User.inc_age()"
   ]
  },
  {
   "cell_type": "code",
   "execution_count": 107,
   "id": "7d742ffb-9458-46d5-8b43-68d56a9defe6",
   "metadata": {},
   "outputs": [],
   "source": [
    "class User:\n",
    "    __slots__ = (\"age\", \"username\")\n",
    "\n",
    "    def __init__(self, username, age):\n",
    "        self.username = username\n",
    "        self.age = age\n",
    "\n",
    "    def inc_age(self):\n",
    "        self.age += 1"
   ]
  },
  {
   "cell_type": "code",
   "execution_count": 108,
   "id": "492703eb-006f-462b-a7fc-f902d6f23bd7",
   "metadata": {},
   "outputs": [],
   "source": [
    "sam = User(\"sam\", 39)"
   ]
  },
  {
   "cell_type": "code",
   "execution_count": 109,
   "id": "295d23e0-3b37-4d16-8797-d57b0d62182f",
   "metadata": {},
   "outputs": [
    {
     "data": {
      "text/plain": [
       "39"
      ]
     },
     "execution_count": 109,
     "metadata": {},
     "output_type": "execute_result"
    }
   ],
   "source": [
    "sam.age"
   ]
  },
  {
   "cell_type": "code",
   "execution_count": 110,
   "id": "cf340e5e-d07d-4852-b92d-27d48739f266",
   "metadata": {},
   "outputs": [
    {
     "data": {
      "text/plain": [
       "'sam'"
      ]
     },
     "execution_count": 110,
     "metadata": {},
     "output_type": "execute_result"
    }
   ],
   "source": [
    "sam.username"
   ]
  },
  {
   "cell_type": "code",
   "execution_count": 111,
   "id": "50816ea5-4be3-472d-a74b-591ddbe7eb7f",
   "metadata": {},
   "outputs": [],
   "source": [
    "sam.inc_age()"
   ]
  },
  {
   "cell_type": "code",
   "execution_count": 112,
   "id": "23611300-aba0-40e3-ba8a-dfd56de7ee22",
   "metadata": {},
   "outputs": [
    {
     "data": {
      "text/plain": [
       "40"
      ]
     },
     "execution_count": 112,
     "metadata": {},
     "output_type": "execute_result"
    }
   ],
   "source": [
    "sam.age"
   ]
  },
  {
   "cell_type": "code",
   "execution_count": 113,
   "id": "5d734e83-b533-427f-ba6f-f99c405bf95e",
   "metadata": {},
   "outputs": [
    {
     "ename": "AttributeError",
     "evalue": "'User' object has no attribute 'email'",
     "output_type": "error",
     "traceback": [
      "\u001b[0;31m---------------------------------------------------------------------------\u001b[0m",
      "\u001b[0;31mAttributeError\u001b[0m                            Traceback (most recent call last)",
      "Cell \u001b[0;32mIn[113], line 1\u001b[0m\n\u001b[0;32m----> 1\u001b[0m \u001b[43msam\u001b[49m\u001b[38;5;241;43m.\u001b[39;49m\u001b[43memail\u001b[49m \u001b[38;5;241m=\u001b[39m \u001b[38;5;124m\"\u001b[39m\u001b[38;5;124m...\u001b[39m\u001b[38;5;124m\"\u001b[39m\n",
      "\u001b[0;31mAttributeError\u001b[0m: 'User' object has no attribute 'email'"
     ]
    }
   ],
   "source": [
    "sam.email = \"...\""
   ]
  },
  {
   "cell_type": "code",
   "execution_count": 114,
   "id": "b549945c-5b16-4af3-88a5-eb019681590e",
   "metadata": {},
   "outputs": [
    {
     "ename": "AttributeError",
     "evalue": "'User' object has no attribute '__dict__'",
     "output_type": "error",
     "traceback": [
      "\u001b[0;31m---------------------------------------------------------------------------\u001b[0m",
      "\u001b[0;31mAttributeError\u001b[0m                            Traceback (most recent call last)",
      "Cell \u001b[0;32mIn[114], line 1\u001b[0m\n\u001b[0;32m----> 1\u001b[0m \u001b[43msam\u001b[49m\u001b[38;5;241;43m.\u001b[39;49m\u001b[38;5;18;43m__dict__\u001b[39;49m\n",
      "\u001b[0;31mAttributeError\u001b[0m: 'User' object has no attribute '__dict__'"
     ]
    }
   ],
   "source": [
    "sam.__dict__"
   ]
  },
  {
   "cell_type": "code",
   "execution_count": 115,
   "id": "3d6b06ea-e005-40a5-b59d-b57eac7490ca",
   "metadata": {},
   "outputs": [
    {
     "data": {
      "text/plain": [
       "('age', 'username')"
      ]
     },
     "execution_count": 115,
     "metadata": {},
     "output_type": "execute_result"
    }
   ],
   "source": [
    "sam.__slots__"
   ]
  },
  {
   "cell_type": "code",
   "execution_count": 116,
   "id": "5149324a-096e-4160-aa2d-2546194d63d5",
   "metadata": {},
   "outputs": [],
   "source": [
    "number = 1"
   ]
  },
  {
   "cell_type": "code",
   "execution_count": 117,
   "id": "fea51752-e31b-4d2b-a04c-a36a9c44a0e1",
   "metadata": {},
   "outputs": [
    {
     "name": "stdout",
     "output_type": "stream",
     "text": [
      "<class 'int'>\n"
     ]
    }
   ],
   "source": [
    "print(type(number))"
   ]
  },
  {
   "cell_type": "code",
   "execution_count": 118,
   "id": "26cc20cc-7355-467e-8fa3-cf4c22dc9446",
   "metadata": {},
   "outputs": [],
   "source": [
    "number = \"one\""
   ]
  },
  {
   "cell_type": "code",
   "execution_count": 119,
   "id": "b22c9cd8-ab63-47c2-9da9-3dbec0bda60b",
   "metadata": {},
   "outputs": [
    {
     "name": "stdout",
     "output_type": "stream",
     "text": [
      "<class 'str'>\n"
     ]
    }
   ],
   "source": [
    "print(type(number))"
   ]
  },
  {
   "cell_type": "code",
   "execution_count": 120,
   "id": "34ab31bd-bc2b-4115-a058-1408da33c8e1",
   "metadata": {},
   "outputs": [
    {
     "data": {
      "text/plain": [
       "False"
      ]
     },
     "execution_count": 120,
     "metadata": {},
     "output_type": "execute_result"
    }
   ],
   "source": [
    "\"3\" == 3"
   ]
  },
  {
   "cell_type": "code",
   "execution_count": 121,
   "id": "018ee12b-0633-4448-9436-949ce48509ff",
   "metadata": {},
   "outputs": [
    {
     "data": {
      "text/plain": [
       "'abcabcabc'"
      ]
     },
     "execution_count": 121,
     "metadata": {},
     "output_type": "execute_result"
    }
   ],
   "source": [
    "\"abc\" * 3"
   ]
  },
  {
   "cell_type": "code",
   "execution_count": 122,
   "id": "aedbb518-de04-4902-9577-2a9831192ca6",
   "metadata": {},
   "outputs": [],
   "source": [
    "class User:\n",
    "    def __init__(self, username, age):\n",
    "        self.username = username\n",
    "        self.age = int(age)"
   ]
  },
  {
   "cell_type": "code",
   "execution_count": 123,
   "id": "4a9d5c7a-a6a4-4eda-9912-9af30a9d851b",
   "metadata": {},
   "outputs": [],
   "source": [
    "sam = User(\"sam\", \"4\")"
   ]
  },
  {
   "cell_type": "code",
   "execution_count": 124,
   "id": "8188251b-ee4a-4eaa-8f50-85e2b5a1dee1",
   "metadata": {},
   "outputs": [
    {
     "data": {
      "text/plain": [
       "4"
      ]
     },
     "execution_count": 124,
     "metadata": {},
     "output_type": "execute_result"
    }
   ],
   "source": [
    "sam.age"
   ]
  },
  {
   "cell_type": "code",
   "execution_count": 125,
   "id": "a0358b13-6c08-4f6d-9388-affa4fda7e4a",
   "metadata": {},
   "outputs": [
    {
     "name": "stdout",
     "output_type": "stream",
     "text": [
      "<class 'int'>\n"
     ]
    }
   ],
   "source": [
    "print(type(sam.age))"
   ]
  },
  {
   "cell_type": "code",
   "execution_count": 126,
   "id": "16d2c534-befe-4a25-a851-8a9e9453a9fc",
   "metadata": {},
   "outputs": [],
   "source": [
    "sam.age = 42"
   ]
  },
  {
   "cell_type": "code",
   "execution_count": 127,
   "id": "e84c48a4-7a4b-402b-b17c-eed59d5a4463",
   "metadata": {},
   "outputs": [
    {
     "data": {
      "text/plain": [
       "42"
      ]
     },
     "execution_count": 127,
     "metadata": {},
     "output_type": "execute_result"
    }
   ],
   "source": [
    "sam.age"
   ]
  },
  {
   "cell_type": "code",
   "execution_count": 128,
   "id": "773c7fe2-9247-43b1-9037-146ed7c8723d",
   "metadata": {},
   "outputs": [],
   "source": [
    "sam.age = \"fourty two\""
   ]
  },
  {
   "cell_type": "code",
   "execution_count": 129,
   "id": "8230bb62-9ca0-4fe4-8c86-23451ccb5e12",
   "metadata": {},
   "outputs": [
    {
     "data": {
      "text/plain": [
       "'fourty two'"
      ]
     },
     "execution_count": 129,
     "metadata": {},
     "output_type": "execute_result"
    }
   ],
   "source": [
    "sam.age"
   ]
  },
  {
   "cell_type": "code",
   "execution_count": 130,
   "id": "824d648a-cad7-43ec-94d5-c98451c1fd86",
   "metadata": {},
   "outputs": [],
   "source": [
    "class User:\n",
    "    def __init__(self, username, age):\n",
    "        self.username = username\n",
    "        self.age = 0\n",
    "        self.set_age(age)\n",
    "\n",
    "    def set_age(self, age):\n",
    "        self.age = int(age)"
   ]
  },
  {
   "cell_type": "code",
   "execution_count": 131,
   "id": "488c2fbc-fc54-4255-84fe-357835d2a1d4",
   "metadata": {},
   "outputs": [],
   "source": [
    "sam = User(\"sam\", \"5\")"
   ]
  },
  {
   "cell_type": "code",
   "execution_count": 132,
   "id": "95b598dd-ba59-41c0-bfaa-54ef10ceb9b3",
   "metadata": {},
   "outputs": [
    {
     "data": {
      "text/plain": [
       "5"
      ]
     },
     "execution_count": 132,
     "metadata": {},
     "output_type": "execute_result"
    }
   ],
   "source": [
    "sam.age"
   ]
  },
  {
   "cell_type": "code",
   "execution_count": 133,
   "id": "61a8e75a-3696-4e81-bde3-aefdecba791e",
   "metadata": {},
   "outputs": [
    {
     "name": "stdout",
     "output_type": "stream",
     "text": [
      "<class 'int'>\n"
     ]
    }
   ],
   "source": [
    "print(type(sam.age))"
   ]
  },
  {
   "cell_type": "code",
   "execution_count": 134,
   "id": "b6258fd9-6e01-41d6-b112-680d90403812",
   "metadata": {},
   "outputs": [],
   "source": [
    "sam.set_age(\"42\")"
   ]
  },
  {
   "cell_type": "code",
   "execution_count": 135,
   "id": "cb5e1fcb-5d82-422d-b352-8b52bcc9fc83",
   "metadata": {},
   "outputs": [
    {
     "data": {
      "text/plain": [
       "42"
      ]
     },
     "execution_count": 135,
     "metadata": {},
     "output_type": "execute_result"
    }
   ],
   "source": [
    "sam.age"
   ]
  },
  {
   "cell_type": "code",
   "execution_count": 136,
   "id": "cd6106ae-52ac-4eca-9a97-32ae5e0158ba",
   "metadata": {},
   "outputs": [
    {
     "name": "stdout",
     "output_type": "stream",
     "text": [
      "<class 'int'>\n"
     ]
    }
   ],
   "source": [
    "print(type(sam.age))"
   ]
  },
  {
   "cell_type": "code",
   "execution_count": 137,
   "id": "2c716e6b-0fdd-4adb-9eb6-6b41fb77ba41",
   "metadata": {},
   "outputs": [],
   "source": [
    "sam.age = \"fourty two\""
   ]
  },
  {
   "cell_type": "code",
   "execution_count": 138,
   "id": "19597fc0-c7e3-43fc-8f8c-5fe1f65fcb38",
   "metadata": {
    "scrolled": true
   },
   "outputs": [
    {
     "data": {
      "text/plain": [
       "'fourty two'"
      ]
     },
     "execution_count": 138,
     "metadata": {},
     "output_type": "execute_result"
    }
   ],
   "source": [
    "sam.age"
   ]
  },
  {
   "cell_type": "code",
   "execution_count": 139,
   "id": "6934352f-7b1f-42de-aeeb-2e081a3fc977",
   "metadata": {},
   "outputs": [
    {
     "data": {
      "text/plain": [
       "{'username': 'sam', 'age': 'fourty two'}"
      ]
     },
     "execution_count": 139,
     "metadata": {},
     "output_type": "execute_result"
    }
   ],
   "source": [
    "sam.__dict__"
   ]
  },
  {
   "cell_type": "code",
   "execution_count": 140,
   "id": "f0e2f215-1be4-4bef-8ac9-be08fc69eda1",
   "metadata": {},
   "outputs": [],
   "source": [
    "class User:\n",
    "    def __init__(self, username, age):\n",
    "        self.username = username\n",
    "        self._age = 0\n",
    "        self.set_age(age)\n",
    "\n",
    "    def get_age(self):\n",
    "        return self._age\n",
    "\n",
    "    def set_age(self, age):\n",
    "        self._age = int(age)"
   ]
  },
  {
   "cell_type": "code",
   "execution_count": 141,
   "id": "4d8fc78e-090b-4799-b801-bb295dedbbce",
   "metadata": {},
   "outputs": [],
   "source": [
    "sam = User(\"sam\", \"5\")"
   ]
  },
  {
   "cell_type": "code",
   "execution_count": 142,
   "id": "83ccc029-afaa-4d27-8efd-35f0cb35a864",
   "metadata": {},
   "outputs": [
    {
     "data": {
      "text/plain": [
       "5"
      ]
     },
     "execution_count": 142,
     "metadata": {},
     "output_type": "execute_result"
    }
   ],
   "source": [
    "sam.get_age()"
   ]
  },
  {
   "cell_type": "code",
   "execution_count": 143,
   "id": "08e030f7-cda4-49c8-8a35-d95dc03f7c12",
   "metadata": {},
   "outputs": [],
   "source": [
    "class User:\n",
    "    def __init__(self, username, age):\n",
    "        self.username = username\n",
    "        self._age = 0\n",
    "        self.set_age(age)\n",
    "\n",
    "    @property\n",
    "    def age(self):\n",
    "        return self._age\n",
    "\n",
    "    def set_age(self, age):\n",
    "        self._age = int(age)"
   ]
  },
  {
   "cell_type": "code",
   "execution_count": 144,
   "id": "78679971-65d8-4bdb-b9dd-567bce694441",
   "metadata": {},
   "outputs": [],
   "source": [
    "sam = User(\"sam\", \"6\")"
   ]
  },
  {
   "cell_type": "code",
   "execution_count": 145,
   "id": "83b76a03-f92e-45e5-af35-dd9dee61c2da",
   "metadata": {},
   "outputs": [
    {
     "data": {
      "text/plain": [
       "6"
      ]
     },
     "execution_count": 145,
     "metadata": {},
     "output_type": "execute_result"
    }
   ],
   "source": [
    "sam.age"
   ]
  },
  {
   "cell_type": "code",
   "execution_count": 146,
   "id": "24bb271a-8c57-4aad-b44f-adcd09d2ea6f",
   "metadata": {},
   "outputs": [],
   "source": [
    "sam.set_age(\"77\")"
   ]
  },
  {
   "cell_type": "code",
   "execution_count": 147,
   "id": "d96e25cc-4ee7-4bac-8b38-bc8e4edb1335",
   "metadata": {},
   "outputs": [
    {
     "data": {
      "text/plain": [
       "77"
      ]
     },
     "execution_count": 147,
     "metadata": {},
     "output_type": "execute_result"
    }
   ],
   "source": [
    "sam.age"
   ]
  },
  {
   "cell_type": "code",
   "execution_count": 150,
   "id": "9ddc8821-7c98-46b9-942d-64b50f26c700",
   "metadata": {},
   "outputs": [],
   "source": [
    "class User:\n",
    "    def __init__(self, username, age):\n",
    "        self.username = username\n",
    "        self.age = age\n",
    "\n",
    "    @property\n",
    "    def age(self):\n",
    "        return self._age\n",
    "\n",
    "    @age.setter\n",
    "    def age(self, age):\n",
    "        self._age = int(age)"
   ]
  },
  {
   "cell_type": "code",
   "execution_count": 151,
   "id": "3b9a09d9-963d-4259-94dd-531dc5ff2db7",
   "metadata": {},
   "outputs": [],
   "source": [
    "sam = User(\"sam\", \"7\")"
   ]
  },
  {
   "cell_type": "code",
   "execution_count": 152,
   "id": "375b6045-c6d1-4fbb-9db5-bcbe83ceadaa",
   "metadata": {},
   "outputs": [
    {
     "data": {
      "text/plain": [
       "7"
      ]
     },
     "execution_count": 152,
     "metadata": {},
     "output_type": "execute_result"
    }
   ],
   "source": [
    "sam.age"
   ]
  },
  {
   "cell_type": "code",
   "execution_count": 153,
   "id": "a7a1ac6d-c9e6-444e-a14a-f040fb0a3ec1",
   "metadata": {},
   "outputs": [],
   "source": [
    "sam.age = 5"
   ]
  },
  {
   "cell_type": "code",
   "execution_count": 154,
   "id": "268039cb-e5c5-4c7f-9879-ebe1a65a75ba",
   "metadata": {},
   "outputs": [
    {
     "data": {
      "text/plain": [
       "5"
      ]
     },
     "execution_count": 154,
     "metadata": {},
     "output_type": "execute_result"
    }
   ],
   "source": [
    "sam.age"
   ]
  },
  {
   "cell_type": "code",
   "execution_count": 155,
   "id": "2a9c5764-dddc-4040-978b-ec7fbbe48e54",
   "metadata": {},
   "outputs": [],
   "source": [
    "sam.age = b\"12\""
   ]
  },
  {
   "cell_type": "code",
   "execution_count": 156,
   "id": "15bb5ec0-6d30-433d-9c65-7bd9e1445183",
   "metadata": {},
   "outputs": [
    {
     "data": {
      "text/plain": [
       "12"
      ]
     },
     "execution_count": 156,
     "metadata": {},
     "output_type": "execute_result"
    }
   ],
   "source": [
    "sam.age"
   ]
  },
  {
   "cell_type": "code",
   "execution_count": 157,
   "id": "e304d56c-eafd-4fc0-852b-5e1d1a22763d",
   "metadata": {},
   "outputs": [
    {
     "data": {
      "text/plain": [
       "int"
      ]
     },
     "execution_count": 157,
     "metadata": {},
     "output_type": "execute_result"
    }
   ],
   "source": [
    "type(sam.age)"
   ]
  },
  {
   "cell_type": "code",
   "execution_count": 158,
   "id": "5ecf2d14-6ed8-4fb6-9bc7-72345d7374b4",
   "metadata": {},
   "outputs": [
    {
     "ename": "ValueError",
     "evalue": "invalid literal for int() with base 10: 'abc'",
     "output_type": "error",
     "traceback": [
      "\u001b[0;31m---------------------------------------------------------------------------\u001b[0m",
      "\u001b[0;31mValueError\u001b[0m                                Traceback (most recent call last)",
      "Cell \u001b[0;32mIn[158], line 1\u001b[0m\n\u001b[0;32m----> 1\u001b[0m \u001b[43msam\u001b[49m\u001b[38;5;241;43m.\u001b[39;49m\u001b[43mage\u001b[49m \u001b[38;5;241m=\u001b[39m \u001b[38;5;124m\"\u001b[39m\u001b[38;5;124mabc\u001b[39m\u001b[38;5;124m\"\u001b[39m\n",
      "Cell \u001b[0;32mIn[150], line 12\u001b[0m, in \u001b[0;36mUser.age\u001b[0;34m(self, age)\u001b[0m\n\u001b[1;32m     10\u001b[0m \u001b[38;5;129m@age\u001b[39m\u001b[38;5;241m.\u001b[39msetter\n\u001b[1;32m     11\u001b[0m \u001b[38;5;28;01mdef\u001b[39;00m \u001b[38;5;21mage\u001b[39m(\u001b[38;5;28mself\u001b[39m, age):\n\u001b[0;32m---> 12\u001b[0m     \u001b[38;5;28mself\u001b[39m\u001b[38;5;241m.\u001b[39m_age \u001b[38;5;241m=\u001b[39m \u001b[38;5;28;43mint\u001b[39;49m\u001b[43m(\u001b[49m\u001b[43mage\u001b[49m\u001b[43m)\u001b[49m\n",
      "\u001b[0;31mValueError\u001b[0m: invalid literal for int() with base 10: 'abc'"
     ]
    }
   ],
   "source": [
    "sam.age = \"abc\""
   ]
  },
  {
   "cell_type": "code",
   "execution_count": 159,
   "id": "7ccb4f7f-4eb3-49bc-bc66-dc7c3bcb471c",
   "metadata": {},
   "outputs": [
    {
     "name": "stdin",
     "output_type": "stream",
     "text": [
      "your age:  42\n"
     ]
    }
   ],
   "source": [
    "age = input(\"your age: \")"
   ]
  },
  {
   "cell_type": "code",
   "execution_count": 160,
   "id": "99220d64-b97f-4e74-a20d-e33fc59876f7",
   "metadata": {},
   "outputs": [
    {
     "data": {
      "text/plain": [
       "'42'"
      ]
     },
     "execution_count": 160,
     "metadata": {},
     "output_type": "execute_result"
    }
   ],
   "source": [
    "age"
   ]
  },
  {
   "cell_type": "code",
   "execution_count": 161,
   "id": "5de33cc2-1b4a-46eb-96c4-22d89095bdfb",
   "metadata": {},
   "outputs": [],
   "source": [
    "if not age.isdigit():\n",
    "    print(\"error reading age\")"
   ]
  },
  {
   "cell_type": "code",
   "execution_count": 162,
   "id": "bf6a498e-5073-4b7e-a2f6-becd9b3e4eb2",
   "metadata": {},
   "outputs": [
    {
     "data": {
      "text/plain": [
       "True"
      ]
     },
     "execution_count": 162,
     "metadata": {},
     "output_type": "execute_result"
    }
   ],
   "source": [
    "age.isdigit()"
   ]
  },
  {
   "cell_type": "code",
   "execution_count": 163,
   "id": "417de98d-4153-4bee-adc4-f9e81bca355b",
   "metadata": {},
   "outputs": [],
   "source": [
    "sam.age = age"
   ]
  },
  {
   "cell_type": "code",
   "execution_count": 164,
   "id": "5ca4a762-80ac-4501-8b2d-2ed429948e97",
   "metadata": {},
   "outputs": [
    {
     "data": {
      "text/plain": [
       "42"
      ]
     },
     "execution_count": 164,
     "metadata": {},
     "output_type": "execute_result"
    }
   ],
   "source": [
    "sam.age"
   ]
  },
  {
   "cell_type": "code",
   "execution_count": 165,
   "id": "eeaa679f-644c-467b-b295-d3ba942d0660",
   "metadata": {},
   "outputs": [],
   "source": [
    "class User:\n",
    "    MAX_AGE = 99\n",
    "\n",
    "    def __init__(self, username, age):\n",
    "        self.username = username\n",
    "        self.age = age\n",
    "\n",
    "    @property\n",
    "    def age(self):\n",
    "        return self._age\n",
    "\n",
    "    @age.setter\n",
    "    def age(self, value):\n",
    "        age = int(value)\n",
    "        if age > self.MAX_AGE:\n",
    "            raise ValueError(\"Max age limit exceeded\")\n",
    "        self._age = age\n",
    "\n",
    "    def inc_age(self):\n",
    "        # self._age += 1\n",
    "        # self.age = self.age + 1\n",
    "        self.age += 1"
   ]
  },
  {
   "cell_type": "code",
   "execution_count": 166,
   "id": "6c252f63-6a21-44c1-b4de-7f6d00335c99",
   "metadata": {},
   "outputs": [],
   "source": [
    "carl = User(\"carl\", 98)"
   ]
  },
  {
   "cell_type": "code",
   "execution_count": 168,
   "id": "def29e41-5cc3-432a-ae39-d5bcf8f054b3",
   "metadata": {},
   "outputs": [
    {
     "data": {
      "text/plain": [
       "98"
      ]
     },
     "execution_count": 168,
     "metadata": {},
     "output_type": "execute_result"
    }
   ],
   "source": [
    "carl.age"
   ]
  },
  {
   "cell_type": "code",
   "execution_count": 169,
   "id": "2e0d3898-a8d9-4acb-a8fa-f4e84e773759",
   "metadata": {},
   "outputs": [],
   "source": [
    "carl.inc_age()"
   ]
  },
  {
   "cell_type": "code",
   "execution_count": 170,
   "id": "74ae7145-cd04-4347-9d16-fc28a1f7d2a2",
   "metadata": {},
   "outputs": [
    {
     "data": {
      "text/plain": [
       "99"
      ]
     },
     "execution_count": 170,
     "metadata": {},
     "output_type": "execute_result"
    }
   ],
   "source": [
    "carl.age"
   ]
  },
  {
   "cell_type": "code",
   "execution_count": 171,
   "id": "7dc8e4fb-1ca0-47cf-ae14-bdface519423",
   "metadata": {},
   "outputs": [
    {
     "ename": "ValueError",
     "evalue": "Max age limit exceeded",
     "output_type": "error",
     "traceback": [
      "\u001b[0;31m---------------------------------------------------------------------------\u001b[0m",
      "\u001b[0;31mValueError\u001b[0m                                Traceback (most recent call last)",
      "Cell \u001b[0;32mIn[171], line 1\u001b[0m\n\u001b[0;32m----> 1\u001b[0m \u001b[43mcarl\u001b[49m\u001b[38;5;241;43m.\u001b[39;49m\u001b[43mage\u001b[49m \u001b[38;5;241m=\u001b[39m \u001b[38;5;241m101\u001b[39m\n",
      "Cell \u001b[0;32mIn[165], line 16\u001b[0m, in \u001b[0;36mUser.age\u001b[0;34m(self, value)\u001b[0m\n\u001b[1;32m     14\u001b[0m age \u001b[38;5;241m=\u001b[39m \u001b[38;5;28mint\u001b[39m(value)\n\u001b[1;32m     15\u001b[0m \u001b[38;5;28;01mif\u001b[39;00m age \u001b[38;5;241m>\u001b[39m \u001b[38;5;28mself\u001b[39m\u001b[38;5;241m.\u001b[39mMAX_AGE:\n\u001b[0;32m---> 16\u001b[0m     \u001b[38;5;28;01mraise\u001b[39;00m \u001b[38;5;167;01mValueError\u001b[39;00m(\u001b[38;5;124m\"\u001b[39m\u001b[38;5;124mMax age limit exceeded\u001b[39m\u001b[38;5;124m\"\u001b[39m)\n\u001b[1;32m     17\u001b[0m \u001b[38;5;28mself\u001b[39m\u001b[38;5;241m.\u001b[39m_age \u001b[38;5;241m=\u001b[39m age\n",
      "\u001b[0;31mValueError\u001b[0m: Max age limit exceeded"
     ]
    }
   ],
   "source": [
    "carl.age = 101"
   ]
  },
  {
   "cell_type": "code",
   "execution_count": 172,
   "id": "e038622b-8ff3-4d9b-9c0c-e6ad879c9ee8",
   "metadata": {},
   "outputs": [
    {
     "ename": "ValueError",
     "evalue": "Max age limit exceeded",
     "output_type": "error",
     "traceback": [
      "\u001b[0;31m---------------------------------------------------------------------------\u001b[0m",
      "\u001b[0;31mValueError\u001b[0m                                Traceback (most recent call last)",
      "Cell \u001b[0;32mIn[172], line 1\u001b[0m\n\u001b[0;32m----> 1\u001b[0m \u001b[43mcarl\u001b[49m\u001b[38;5;241;43m.\u001b[39;49m\u001b[43minc_age\u001b[49m\u001b[43m(\u001b[49m\u001b[43m)\u001b[49m\n",
      "Cell \u001b[0;32mIn[165], line 22\u001b[0m, in \u001b[0;36mUser.inc_age\u001b[0;34m(self)\u001b[0m\n\u001b[1;32m     19\u001b[0m \u001b[38;5;28;01mdef\u001b[39;00m \u001b[38;5;21minc_age\u001b[39m(\u001b[38;5;28mself\u001b[39m):\n\u001b[1;32m     20\u001b[0m     \u001b[38;5;66;03m# self._age += 1\u001b[39;00m\n\u001b[1;32m     21\u001b[0m     \u001b[38;5;66;03m# self.age = self.age + 1\u001b[39;00m\n\u001b[0;32m---> 22\u001b[0m     \u001b[38;5;28;43mself\u001b[39;49m\u001b[38;5;241;43m.\u001b[39;49m\u001b[43mage\u001b[49m \u001b[38;5;241m+\u001b[39m\u001b[38;5;241m=\u001b[39m \u001b[38;5;241m1\u001b[39m\n",
      "Cell \u001b[0;32mIn[165], line 16\u001b[0m, in \u001b[0;36mUser.age\u001b[0;34m(self, value)\u001b[0m\n\u001b[1;32m     14\u001b[0m age \u001b[38;5;241m=\u001b[39m \u001b[38;5;28mint\u001b[39m(value)\n\u001b[1;32m     15\u001b[0m \u001b[38;5;28;01mif\u001b[39;00m age \u001b[38;5;241m>\u001b[39m \u001b[38;5;28mself\u001b[39m\u001b[38;5;241m.\u001b[39mMAX_AGE:\n\u001b[0;32m---> 16\u001b[0m     \u001b[38;5;28;01mraise\u001b[39;00m \u001b[38;5;167;01mValueError\u001b[39;00m(\u001b[38;5;124m\"\u001b[39m\u001b[38;5;124mMax age limit exceeded\u001b[39m\u001b[38;5;124m\"\u001b[39m)\n\u001b[1;32m     17\u001b[0m \u001b[38;5;28mself\u001b[39m\u001b[38;5;241m.\u001b[39m_age \u001b[38;5;241m=\u001b[39m age\n",
      "\u001b[0;31mValueError\u001b[0m: Max age limit exceeded"
     ]
    }
   ],
   "source": [
    "carl.inc_age()"
   ]
  },
  {
   "cell_type": "code",
   "execution_count": 174,
   "id": "9bbca4e1-aaa8-4a3f-93e2-970ef86f1382",
   "metadata": {},
   "outputs": [],
   "source": [
    "class LowLevelConnection:\n",
    "    def start(self):\n",
    "        print(\"start low level connection\")\n",
    "\n",
    "\n",
    "class RedisConnection:\n",
    "    def __init__(self):\n",
    "        self._connection = None\n",
    "\n",
    "    @property\n",
    "    def connection(self):\n",
    "        if self._connection is None:\n",
    "            self._connection = LowLevelConnection()\n",
    "        # if self._connection.is_lost():\n",
    "        #     self._connection.reconnect()\n",
    "        return self._connection\n",
    "\n",
    "    def connect(self):\n",
    "        self.connection.start()"
   ]
  },
  {
   "cell_type": "code",
   "execution_count": 175,
   "id": "ca0c61cd-e7b1-44a1-8626-bde877658182",
   "metadata": {},
   "outputs": [],
   "source": [
    "rc = RedisConnection()"
   ]
  },
  {
   "cell_type": "code",
   "execution_count": 176,
   "id": "89e30331-b110-4e75-a7df-847690fc5b3f",
   "metadata": {},
   "outputs": [],
   "source": [
    "rc._connection"
   ]
  },
  {
   "cell_type": "code",
   "execution_count": 177,
   "id": "f2970b98-4396-4f67-b135-b3e742be3a8f",
   "metadata": {},
   "outputs": [
    {
     "name": "stdout",
     "output_type": "stream",
     "text": [
      "None\n"
     ]
    }
   ],
   "source": [
    "print(rc._connection)"
   ]
  },
  {
   "cell_type": "code",
   "execution_count": 178,
   "id": "0ddef5ea-87cd-4259-9035-f88c36bf55f2",
   "metadata": {},
   "outputs": [
    {
     "name": "stdout",
     "output_type": "stream",
     "text": [
      "<__main__.LowLevelConnection object at 0x1081569c0>\n"
     ]
    }
   ],
   "source": [
    "print(rc.connection)"
   ]
  },
  {
   "cell_type": "code",
   "execution_count": 179,
   "id": "c7c1726f-50c7-4f7c-8827-05ef10a91f98",
   "metadata": {},
   "outputs": [
    {
     "name": "stdout",
     "output_type": "stream",
     "text": [
      "<__main__.LowLevelConnection object at 0x1081569c0>\n"
     ]
    }
   ],
   "source": [
    "print(rc._connection)"
   ]
  },
  {
   "cell_type": "code",
   "execution_count": 180,
   "id": "1e00525f-a3c0-4d60-977b-e1f817333803",
   "metadata": {},
   "outputs": [
    {
     "name": "stdout",
     "output_type": "stream",
     "text": [
      "start low level connection\n"
     ]
    }
   ],
   "source": [
    "rc.connect()"
   ]
  },
  {
   "cell_type": "code",
   "execution_count": 181,
   "id": "e863f8c0-90a4-4e30-99db-e812d8d8781e",
   "metadata": {},
   "outputs": [],
   "source": [
    "rc._connection = None"
   ]
  },
  {
   "cell_type": "code",
   "execution_count": 182,
   "id": "19e31c32-04d8-4bee-ab6c-cf41f5b485d3",
   "metadata": {},
   "outputs": [
    {
     "name": "stdout",
     "output_type": "stream",
     "text": [
      "start low level connection\n"
     ]
    }
   ],
   "source": [
    "rc.connect()"
   ]
  },
  {
   "cell_type": "code",
   "execution_count": 183,
   "id": "6ce81299-643f-4178-a93a-e05b79bb72e2",
   "metadata": {},
   "outputs": [
    {
     "data": {
      "text/plain": [
       "__main__.User"
      ]
     },
     "execution_count": 183,
     "metadata": {},
     "output_type": "execute_result"
    }
   ],
   "source": [
    "User"
   ]
  },
  {
   "cell_type": "code",
   "execution_count": 184,
   "id": "2ebf8f06-bb5f-4e24-ba29-094d8f5da105",
   "metadata": {},
   "outputs": [
    {
     "data": {
      "text/plain": [
       "99"
      ]
     },
     "execution_count": 184,
     "metadata": {},
     "output_type": "execute_result"
    }
   ],
   "source": [
    "User.MAX_AGE"
   ]
  },
  {
   "cell_type": "code",
   "execution_count": 185,
   "id": "9ba8f0c7-7b35-4e68-b113-d5eabe823e49",
   "metadata": {},
   "outputs": [],
   "source": [
    "class AdminUser(User):\n",
    "    MAX_AGE = 55"
   ]
  },
  {
   "cell_type": "code",
   "execution_count": 186,
   "id": "a5f00f17-3325-44de-913e-de59a05a0e10",
   "metadata": {},
   "outputs": [],
   "source": [
    "admin_bob = AdminUser(\"bob\", 44)"
   ]
  },
  {
   "cell_type": "code",
   "execution_count": 187,
   "id": "18f9018f-7209-4852-a304-d947d53e969a",
   "metadata": {},
   "outputs": [
    {
     "data": {
      "text/plain": [
       "44"
      ]
     },
     "execution_count": 187,
     "metadata": {},
     "output_type": "execute_result"
    }
   ],
   "source": [
    "admin_bob.age"
   ]
  },
  {
   "cell_type": "code",
   "execution_count": 188,
   "id": "4d9f1113-f71e-48e3-b5f9-629715737c8d",
   "metadata": {},
   "outputs": [
    {
     "ename": "ValueError",
     "evalue": "Max age limit exceeded",
     "output_type": "error",
     "traceback": [
      "\u001b[0;31m---------------------------------------------------------------------------\u001b[0m",
      "\u001b[0;31mValueError\u001b[0m                                Traceback (most recent call last)",
      "Cell \u001b[0;32mIn[188], line 1\u001b[0m\n\u001b[0;32m----> 1\u001b[0m \u001b[43madmin_bob\u001b[49m\u001b[38;5;241;43m.\u001b[39;49m\u001b[43mage\u001b[49m \u001b[38;5;241m=\u001b[39m \u001b[38;5;241m56\u001b[39m\n",
      "Cell \u001b[0;32mIn[165], line 16\u001b[0m, in \u001b[0;36mUser.age\u001b[0;34m(self, value)\u001b[0m\n\u001b[1;32m     14\u001b[0m age \u001b[38;5;241m=\u001b[39m \u001b[38;5;28mint\u001b[39m(value)\n\u001b[1;32m     15\u001b[0m \u001b[38;5;28;01mif\u001b[39;00m age \u001b[38;5;241m>\u001b[39m \u001b[38;5;28mself\u001b[39m\u001b[38;5;241m.\u001b[39mMAX_AGE:\n\u001b[0;32m---> 16\u001b[0m     \u001b[38;5;28;01mraise\u001b[39;00m \u001b[38;5;167;01mValueError\u001b[39;00m(\u001b[38;5;124m\"\u001b[39m\u001b[38;5;124mMax age limit exceeded\u001b[39m\u001b[38;5;124m\"\u001b[39m)\n\u001b[1;32m     17\u001b[0m \u001b[38;5;28mself\u001b[39m\u001b[38;5;241m.\u001b[39m_age \u001b[38;5;241m=\u001b[39m age\n",
      "\u001b[0;31mValueError\u001b[0m: Max age limit exceeded"
     ]
    }
   ],
   "source": [
    "admin_bob.age = 56"
   ]
  },
  {
   "cell_type": "code",
   "execution_count": 189,
   "id": "076cad5e-3d27-4845-8277-51eb29de10b7",
   "metadata": {},
   "outputs": [
    {
     "data": {
      "text/plain": [
       "55"
      ]
     },
     "execution_count": 189,
     "metadata": {},
     "output_type": "execute_result"
    }
   ],
   "source": [
    "admin_bob.MAX_AGE"
   ]
  },
  {
   "cell_type": "code",
   "execution_count": 190,
   "id": "285c4ef0-3a21-4524-9fd2-ab5c61d83948",
   "metadata": {},
   "outputs": [
    {
     "data": {
      "text/plain": [
       "55"
      ]
     },
     "execution_count": 190,
     "metadata": {},
     "output_type": "execute_result"
    }
   ],
   "source": [
    "AdminUser.MAX_AGE"
   ]
  },
  {
   "cell_type": "code",
   "execution_count": 191,
   "id": "a9509914-b1b3-4dd5-960a-7c6715067734",
   "metadata": {},
   "outputs": [
    {
     "data": {
      "text/plain": [
       "99"
      ]
     },
     "execution_count": 191,
     "metadata": {},
     "output_type": "execute_result"
    }
   ],
   "source": [
    "User.MAX_AGE"
   ]
  },
  {
   "cell_type": "code",
   "execution_count": 194,
   "id": "facf069c-498a-45d5-9f12-5b406d08533b",
   "metadata": {},
   "outputs": [
    {
     "data": {
      "text/plain": [
       "99"
      ]
     },
     "execution_count": 194,
     "metadata": {},
     "output_type": "execute_result"
    }
   ],
   "source": [
    "carl.MAX_AGE"
   ]
  },
  {
   "cell_type": "code",
   "execution_count": 198,
   "id": "be348c7b-ea93-4b22-a810-9be8645589d1",
   "metadata": {},
   "outputs": [],
   "source": [
    "class Car:\n",
    "    def __init__(self, wheels):\n",
    "        self.wheels = wheels\n",
    "        # self.call_some_method()\n",
    "\n",
    "    def honk(self):\n",
    "        print(\"car beeps: honk honk\")\n",
    "\n",
    "\n",
    "class Ship:\n",
    "    def __init__(self, cabins):\n",
    "        self.cabins = cabins\n",
    "\n",
    "    def sail(self):\n",
    "        print(\"pieces of eight!\")"
   ]
  },
  {
   "cell_type": "code",
   "execution_count": 199,
   "id": "e2d226f5-39ad-4cd1-8ff2-474b6e1fea73",
   "metadata": {},
   "outputs": [],
   "source": [
    "class Amphibian(Car, Ship):\n",
    "    def __init__(self, wheels, cabins):\n",
    "        # self.wheels = wheels\n",
    "        # self.cabins = cabins\n",
    "        Car.__init__(self, wheels)\n",
    "        Ship.__init__(self, cabins)\n",
    "\n",
    "    def transform(self):\n",
    "        print(\"transforming\")"
   ]
  },
  {
   "cell_type": "code",
   "execution_count": 200,
   "id": "a2fb3bb7-13fa-4fd3-abd8-864fa0cc8472",
   "metadata": {},
   "outputs": [],
   "source": [
    "amp = Amphibian(wheels=4, cabins=1)"
   ]
  },
  {
   "cell_type": "code",
   "execution_count": 201,
   "id": "58948948-1427-4375-b794-da9b45687fd9",
   "metadata": {},
   "outputs": [
    {
     "data": {
      "text/plain": [
       "4"
      ]
     },
     "execution_count": 201,
     "metadata": {},
     "output_type": "execute_result"
    }
   ],
   "source": [
    "amp.wheels"
   ]
  },
  {
   "cell_type": "code",
   "execution_count": 202,
   "id": "8d3b2355-2e8c-49c9-ba1e-9a0b5ecc1bab",
   "metadata": {},
   "outputs": [
    {
     "data": {
      "text/plain": [
       "1"
      ]
     },
     "execution_count": 202,
     "metadata": {},
     "output_type": "execute_result"
    }
   ],
   "source": [
    "amp.cabins"
   ]
  },
  {
   "cell_type": "code",
   "execution_count": 203,
   "id": "b918ab5d-9826-425b-80d8-10cd6253685a",
   "metadata": {},
   "outputs": [
    {
     "name": "stdout",
     "output_type": "stream",
     "text": [
      "car beeps: honk honk\n"
     ]
    }
   ],
   "source": [
    "amp.honk()"
   ]
  },
  {
   "cell_type": "code",
   "execution_count": 204,
   "id": "c015312f-42cb-4487-8bfb-4fc7cbb8af2d",
   "metadata": {},
   "outputs": [
    {
     "name": "stdout",
     "output_type": "stream",
     "text": [
      "pieces of eight!\n"
     ]
    }
   ],
   "source": [
    "amp.sail()"
   ]
  },
  {
   "cell_type": "code",
   "execution_count": 205,
   "id": "f4a3d08e-ef3f-4402-90cb-7f0110bfcdfd",
   "metadata": {},
   "outputs": [
    {
     "name": "stdout",
     "output_type": "stream",
     "text": [
      "transforming\n"
     ]
    }
   ],
   "source": [
    "amp.transform()"
   ]
  },
  {
   "cell_type": "code",
   "execution_count": null,
   "id": "787bfe23-0c1d-4e50-893c-036e1c13d03c",
   "metadata": {},
   "outputs": [],
   "source": []
  }
 ],
 "metadata": {
  "kernelspec": {
   "display_name": "Python 3 (ipykernel)",
   "language": "python",
   "name": "python3"
  },
  "language_info": {
   "codemirror_mode": {
    "name": "ipython",
    "version": 3
   },
   "file_extension": ".py",
   "mimetype": "text/x-python",
   "name": "python",
   "nbconvert_exporter": "python",
   "pygments_lexer": "ipython3",
   "version": "3.12.3"
  }
 },
 "nbformat": 4,
 "nbformat_minor": 5
}
